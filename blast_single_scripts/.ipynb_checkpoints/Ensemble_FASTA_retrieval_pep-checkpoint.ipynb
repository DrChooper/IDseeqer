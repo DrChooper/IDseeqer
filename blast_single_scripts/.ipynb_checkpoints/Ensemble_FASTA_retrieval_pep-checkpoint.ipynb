{
 "cells": [
  {
   "cell_type": "markdown",
   "metadata": {},
   "source": [
    "# FASTA download from Ensembl Server\n",
    "### This is the same as the cdna only using the pep. I haven't commented this one as well so just for what I used and what ran fine in case you are wondering"
   ]
  },
  {
   "cell_type": "markdown",
   "metadata": {},
   "source": [
    "## 1. Obtain the FASTA files"
   ]
  },
  {
   "cell_type": "markdown",
   "metadata": {},
   "source": [
    "This can be automated at a later stage and aims to obtain the FASTA files for cDNA and proteins from the current version (or specified version) of genome assemblies from the FTP server: <br>\n",
    "\n",
    "FOR EXAMPLE:<br>\n",
    "The cropPAL2v2 release is based on Ensembl release 40<br>\n",
    "\n",
    "server index:\n",
    "ftp://ftp.ensemblgenomes.org/pub/release-40/plants/fasta/\n",
    "\n",
    "release notes:\n",
    "http://www.ensembl.info/2018/07/17/ensembl-genomes-40-has-been-released/\n",
    "\n",
    "The filenames could be scraped using: \n",
    "1. The version as a number: e.g. 40\n",
    "2. the species name in small and underscore from a list: e.g. 'zea_mays','oryza_sativa'\n",
    "3. the type of sequence: e.g. cdna or pep\n",
    "\n",
    "Then we need to generate the query:<br>\n",
    "!curl -o Zea_mays.B73_RefGen_v4.pep.all.fa.gz ftp://ftp.ensemblgenomes.org/pub/release-44/plants/fasta/zea_mays/pep/Zea_mays.B73_RefGen_v4.pep.all.fa.gz\n",
    "\n"
   ]
  },
  {
   "cell_type": "code",
   "execution_count": null,
   "metadata": {},
   "outputs": [
    {
     "name": "stdout",
     "output_type": "stream",
     "text": [
      "  % Total    % Received % Xferd  Average Speed   Time    Time     Time  Current\n",
      "                                 Dload  Upload   Total   Spent    Left  Speed\n",
      "100 9545k  100 9545k    0     0   915k      0  0:00:10  0:00:10 --:--:-- 1923k\n",
      "  % Total    % Received % Xferd  Average Speed   Time    Time     Time  Current\n",
      "                                 Dload  Upload   Total   Spent    Left  Speed\n",
      "100 23.2M  100 23.2M    0     0  1965k      0  0:00:12  0:00:12 --:--:-- 5040k\n",
      "  % Total    % Received % Xferd  Average Speed   Time    Time     Time  Current\n",
      "                                 Dload  Upload   Total   Spent    Left  Speed\n",
      "100 12.2M  100 12.2M    0     0   915k      0  0:00:13  0:00:13 --:--:-- 2141kk    0     0   601k      0  0:00:20  0:00:10  0:00:10 1315k\n",
      "  % Total    % Received % Xferd  Average Speed   Time    Time     Time  Current\n",
      "                                 Dload  Upload   Total   Spent    Left  Speed\n",
      "100 7923k  100 7923k    0     0   387k      0  0:00:20  0:00:20 --:--:--  476k\n",
      "  % Total    % Received % Xferd  Average Speed   Time    Time     Time  Current\n",
      "                                 Dload  Upload   Total   Spent    Left  Speed\n",
      "100 9451k  100 9451k    0     0   456k      0  0:00:20  0:00:20 --:--:--  472k\n",
      "  % Total    % Received % Xferd  Average Speed   Time    Time     Time  Current\n",
      "                                 Dload  Upload   Total   Spent    Left  Speed\n",
      "100 7622k  100 7622k    0     0   771k      0  0:00:09  0:00:09 --:--:-- 1493k\n",
      "  % Total    % Received % Xferd  Average Speed   Time    Time     Time  Current\n",
      "                                 Dload  Upload   Total   Spent    Left  Speed\n",
      "100 9768k  100 9768k    0     0   557k      0  0:00:17  0:00:17 --:--:--  761k\n",
      "  % Total    % Received % Xferd  Average Speed   Time    Time     Time  Current\n",
      "                                 Dload  Upload   Total   Spent    Left  Speed\n",
      "100 15.5M  100 15.5M    0     0  1427k      0  0:00:11  0:00:11 --:--:-- 3463k\n",
      "  % Total    % Received % Xferd  Average Speed   Time    Time     Time  Current\n",
      "                                 Dload  Upload   Total   Spent    Left  Speed\n",
      "100 9490k  100 9490k    0     0   507k      0  0:00:18  0:00:18 --:--:-- 1006k\n",
      "  % Total    % Received % Xferd  Average Speed   Time    Time     Time  Current\n",
      "                                 Dload  Upload   Total   Spent    Left  Speed\n",
      " 64 9292k   64 5967k    0     0   287k      0  0:00:32  0:00:20  0:00:12  558k:13  0:00:42  298k"
     ]
    }
   ],
   "source": [
    "#download the file for the protein search\n",
    "!curl -o Arabidopsis_thaliana.TAIR10.pep.all.fa.gz ftp://ftp.ensemblgenomes.org/pub/release-40/plants/fasta/arabidopsis_thaliana/pep/Arabidopsis_thaliana.TAIR10.pep.all.fa.gz\n",
    "!curl -o Brassica_napus.AST_PRJEB5043_v1.pep.all.fa.gz ftp://ftp.ensemblgenomes.org/pub/release-40/plants/fasta/brassica_napus/pep/Brassica_napus.AST_PRJEB5043_v1.pep.all.fa.gz\n",
    "!curl -o Brassica_rapa.IVFCAASv1.pep.all.fa.gz ftp://ftp.ensemblgenomes.org/pub/release-40/plants/fasta/brassica_rapa/pep/Brassica_rapa.IVFCAASv1.pep.all.fa.gz\n",
    "!curl -o Glycine_max.Glycine_max_v2.0.pep.all.fa.gz ftp://ftp.ensemblgenomes.org/pub/release-40/plants/fasta/glycine_max/pep/Glycine_max.Glycine_max_v2.0.pep.all.fa.gz\n",
    "!curl -o Solanum_lycopersicum.SL2.50.pep.all.fa.gz ftp://ftp.ensemblgenomes.org/pub/release-40/plants/fasta/solanum_lycopersicum/pep/Solanum_lycopersicum.SL2.50.pep.all.fa.gz\n",
    "!curl -o Solanum_tuberosum.SolTub_3.0.pep.all.fa.gz ftp://ftp.ensemblgenomes.org/pub/release-40/plants/fasta/solanum_tuberosum/pep/Solanum_tuberosum.SolTub_3.0.pep.all.fa.gz\n",
    "!curl -o Vitis_vinifera.IGGP_12x.pep.all.fa.gz ftp://ftp.ensemblgenomes.org/pub/release-40/plants/fasta/vitis_vinifera/pep/Vitis_vinifera.IGGP_12x.pep.all.fa.gz\n",
    "!curl -o Oryza_sativa.IRGSP-1.0.pep.all.fa.gz ftp://ftp.ensemblgenomes.org/pub/release-40/plants/fasta/oryza_sativa/pep/Oryza_sativa.IRGSP-1.0.pep.all.fa.gz\n",
    "!curl -o Zea_mays.AGPv4.pep.all.fa.gz ftp://ftp.ensemblgenomes.org/pub/release-40/plants/fasta/zea_mays/pep/Zea_mays.AGPv4.pep.all.fa.gz\n",
    "!curl -o Sorghum_bicolor.Sorghum_bicolor_NCBIv3.pep.all.fa.gz ftp://ftp.ensemblgenomes.org/pub/release-40/plants/fasta/sorghum_bicolor/pep/Sorghum_bicolor.Sorghum_bicolor_NCBIv3.pep.all.fa.gz\n",
    "!curl -o Musa_acuminata.MA1.pep.all.fa.gz ftp://ftp.ensemblgenomes.org/pub/release-40/plants/fasta/musa_acuminata/pep/Musa_acuminata.MA1.pep.all.fa.gz\n",
    "!curl -o Hordeum_vulgare.Hv_IBSC_PGSB_v2.pep.all.fa.gz ftp://ftp.ensemblgenomes.org/pub/release-40/plants/fasta/hordeum_vulgare/pep/Hordeum_vulgare.Hv_IBSC_PGSB_v2.pep.all.fa.gz\n",
    "!curl -o Triticum_aestivum.IWGSC.pep.all.fa.gz ftp://ftp.ensemblgenomes.org/pub/release-40/plants/fasta/triticum_aestivum/pep/Triticum_aestivum.IWGSC.pep.all.fa.gz"
   ]
  },
  {
   "cell_type": "markdown",
   "metadata": {},
   "source": [
    "### Build the Blast database in the folder"
   ]
  },
  {
   "cell_type": "code",
   "execution_count": 1,
   "metadata": {},
   "outputs": [
    {
     "name": "stdout",
     "output_type": "stream",
     "text": [
      "\n",
      "\n",
      "Building a new DB, current time: 08/02/2019 08:40:44\n",
      "New DB name:   /Users/connyhooper/Dropbox/12_Database_projects/6_cropPAL-2/cropPAL2v2_built_20181109/BLAST_ID_retrieval/FASTA_download/pep/blastdb_gm_prot\n",
      "New DB title:  gmax\n",
      "Sequence type: Protein\n",
      "Keep MBits: T\n",
      "Maximum file size: 1000000000B\n",
      "Adding sequences from FASTA; added 89597 sequences in 6.11487 seconds.\n"
     ]
    }
   ],
   "source": [
    "!gzcat Glycine_max.Glycine_max_v2.0.pep.all.fa.gz |makeblastdb -in - -out blastdb_gm_prot -input_type=fasta -dbtype prot -title gmax\n"
   ]
  },
  {
   "cell_type": "code",
   "execution_count": 2,
   "metadata": {},
   "outputs": [
    {
     "name": "stdout",
     "output_type": "stream",
     "text": [
      "\n",
      "\n",
      "Building a new DB, current time: 07/29/2019 11:52:45\n",
      "New DB name:   /Users/connyhooper/Dropbox/12_Database_projects/6_cropPAL-2/cropPAL2v2_built_20181109/BLAST_ID_retrieval/FASTA_download/blastdb_at_prot\n",
      "New DB title:  athaliana\n",
      "Sequence type: Protein\n",
      "Keep MBits: T\n",
      "Maximum file size: 1000000000B\n",
      "Adding sequences from FASTA; added 48321 sequences in 3.56864 seconds.\n",
      "\n",
      "\n",
      "Building a new DB, current time: 07/29/2019 11:52:49\n",
      "New DB name:   /Users/connyhooper/Dropbox/12_Database_projects/6_cropPAL-2/cropPAL2v2_built_20181109/BLAST_ID_retrieval/FASTA_download/blastdb_bn_prot\n",
      "New DB title:  bnapus\n",
      "Sequence type: Protein\n",
      "Keep MBits: T\n",
      "Maximum file size: 1000000000B\n",
      "Adding sequences from FASTA; added 101040 sequences in 6.68333 seconds.\n",
      "\n",
      "\n",
      "Building a new DB, current time: 07/29/2019 11:52:56\n",
      "New DB name:   /Users/connyhooper/Dropbox/12_Database_projects/6_cropPAL-2/cropPAL2v2_built_20181109/BLAST_ID_retrieval/FASTA_download/blastdb_br_prot\n",
      "New DB title:  Brava\n",
      "Sequence type: Protein\n",
      "Keep MBits: T\n",
      "Maximum file size: 1000000000B\n",
      "Adding sequences from FASTA; added 41025 sequences in 4.01172 seconds.\n",
      "\n",
      "\n",
      "Building a new DB, current time: 07/29/2019 11:53:00\n",
      "New DB name:   /Users/connyhooper/Dropbox/12_Database_projects/6_cropPAL-2/cropPAL2v2_built_20181109/BLAST_ID_retrieval/FASTA_download/blastdb_sl_prot\n",
      "New DB title:  slycopersicum\n",
      "Sequence type: Protein\n",
      "Keep MBits: T\n",
      "Maximum file size: 1000000000B\n",
      "Adding sequences from FASTA; added 33785 sequences in 2.81024 seconds.\n",
      "\n",
      "\n",
      "Building a new DB, current time: 07/29/2019 11:53:03\n",
      "New DB name:   /Users/connyhooper/Dropbox/12_Database_projects/6_cropPAL-2/cropPAL2v2_built_20181109/BLAST_ID_retrieval/FASTA_download/blastdb_st_prot\n",
      "New DB title:  stuberosum\n",
      "Sequence type: Protein\n",
      "Keep MBits: T\n",
      "Maximum file size: 1000000000B\n",
      "Adding sequences from FASTA; added 56210 sequences in 4.91299 seconds.\n",
      "\n",
      "\n",
      "Building a new DB, current time: 07/29/2019 11:53:08\n",
      "New DB name:   /Users/connyhooper/Dropbox/12_Database_projects/6_cropPAL-2/cropPAL2v2_built_20181109/BLAST_ID_retrieval/FASTA_download/blastdb_vv_prot\n",
      "New DB title:  vvinifera\n",
      "Sequence type: Protein\n",
      "Keep MBits: T\n",
      "Maximum file size: 1000000000B\n",
      "Adding sequences from FASTA; added 29927 sequences in 2.59972 seconds.\n",
      "\n",
      "\n",
      "Building a new DB, current time: 07/29/2019 11:53:11\n",
      "New DB name:   /Users/connyhooper/Dropbox/12_Database_projects/6_cropPAL-2/cropPAL2v2_built_20181109/BLAST_ID_retrieval/FASTA_download/blastdb_zm_prot\n",
      "New DB title:  mays\n",
      "Sequence type: Protein\n",
      "Keep MBits: T\n",
      "Maximum file size: 1000000000B\n",
      "Adding sequences from FASTA; added 131496 sequences in 11.61 seconds.\n",
      "\n",
      "\n",
      "Building a new DB, current time: 07/29/2019 11:53:22\n",
      "New DB name:   /Users/connyhooper/Dropbox/12_Database_projects/6_cropPAL-2/cropPAL2v2_built_20181109/BLAST_ID_retrieval/FASTA_download/blastdb_sb_prot\n",
      "New DB title:  bicolor\n",
      "Sequence type: Protein\n",
      "Keep MBits: T\n",
      "Maximum file size: 1000000000B\n",
      "Adding sequences from FASTA; added 47110 sequences in 3.85395 seconds.\n",
      "\n",
      "\n",
      "Building a new DB, current time: 07/29/2019 11:53:26\n",
      "New DB name:   /Users/connyhooper/Dropbox/12_Database_projects/6_cropPAL-2/cropPAL2v2_built_20181109/BLAST_ID_retrieval/FASTA_download/blastdb_ma_prot\n",
      "New DB title:  macuminata\n",
      "Sequence type: Protein\n",
      "Keep MBits: T\n",
      "Maximum file size: 1000000000B\n",
      "Adding sequences from FASTA; added 36519 sequences in 2.84574 seconds.\n",
      "\n",
      "\n",
      "Building a new DB, current time: 07/29/2019 11:53:29\n",
      "New DB name:   /Users/connyhooper/Dropbox/12_Database_projects/6_cropPAL-2/cropPAL2v2_built_20181109/BLAST_ID_retrieval/FASTA_download/blastdb_hv_prot\n",
      "New DB title:  hvulgare\n",
      "Sequence type: Protein\n",
      "Keep MBits: T\n",
      "Maximum file size: 1000000000B\n",
      "Adding sequences from FASTA; added 236301 sequences in 16.6532 seconds.\n",
      "\n",
      "\n",
      "Building a new DB, current time: 07/29/2019 11:53:46\n",
      "New DB name:   /Users/connyhooper/Dropbox/12_Database_projects/6_cropPAL-2/cropPAL2v2_built_20181109/BLAST_ID_retrieval/FASTA_download/blastdb_ta_prot\n",
      "New DB title:  taestivum\n",
      "Sequence type: Protein\n",
      "Keep MBits: T\n",
      "Maximum file size: 1000000000B\n",
      "Adding sequences from FASTA; added 137029 sequences in 9.83443 seconds.\n"
     ]
    }
   ],
   "source": [
    "#BLAST Protein DATABASE BUILD\n",
    "!gzcat Arabidopsis_thaliana.TAIR10.pep.all.fa.gz |makeblastdb -in - -out blastdb_at_prot -input_type=fasta -dbtype prot -title athaliana\n",
    "!gzcat Brassica_napus.AST_PRJEB5043_v1.pep.all.fa.gz |makeblastdb -in - -out blastdb_bn_prot -input_type=fasta -dbtype prot -title bnapus\n",
    "!gzcat Brassica_rapa.IVFCAASv1.pep.all.fa.gz |makeblastdb -in - -out blastdb_br_prot -input_type=fasta -dbtype prot -title Brava\n",
    "!gzcat Solanum_lycopersicum.SL2.50.pep.all.fa.gz |makeblastdb -in - -out blastdb_sl_prot -input_type=fasta -dbtype prot -title slycopersicum\n",
    "!gzcat Solanum_tuberosum.SolTub_3.0.pep.all.fa.gz|makeblastdb -in - -out blastdb_st_prot -input_type=fasta -dbtype prot -title stuberosum\n",
    "!gzcat Vitis_vinifera.IGGP_12x.pep.all.fa.gz |makeblastdb -in - -out blastdb_vv_prot -input_type=fasta -dbtype prot -title vvinifera\n",
    "\n",
    "!gzcat Oryza_sativa.IRGSP-1.0.pep.all.fa.gz |makeblastdb -in - -out blastdb_os_prot -input_type=fasta -dbtype prot -title osativa\n",
    "!gzcat Zea_mays.AGPv4.pep.all.fa.gz |makeblastdb -in - -out blastdb_zm_prot -input_type=fasta -dbtype prot -title mays\n",
    "!gzcat Sorghum_bicolor.Sorghum_bicolor_NCBIv3.pep.all.fa.gz |makeblastdb -in - -out blastdb_sb_prot -input_type=fasta -dbtype prot -title bicolor\n",
    "!gzcat Musa_acuminata.MA1.pep.all.fa.gz |makeblastdb -in - -out blastdb_ma_prot -input_type=fasta -dbtype prot -title macuminata\n",
    "!gzcat Hordeum_vulgare.Hv_IBSC_PGSB_v2.pep.all.fa.gz |makeblastdb -in - -out blastdb_hv_prot -input_type=fasta -dbtype prot -title hvulgare\n",
    "!gzcat Triticum_aestivum.IWGSC.pep.all.fa.gz |makeblastdb -in - -out blastdb_ta_prot -input_type=fasta -dbtype prot -title taestivum\n"
   ]
  },
  {
   "cell_type": "code",
   "execution_count": 2,
   "metadata": {},
   "outputs": [
    {
     "name": "stdout",
     "output_type": "stream",
     "text": [
      "\n",
      "\n",
      "Building a new DB, current time: 08/02/2019 10:07:50\n",
      "New DB name:   /Users/connyhooper/Dropbox/12_Database_projects/6_cropPAL-2/cropPAL2v2_built_20181109/BLAST_ID_retrieval/FASTA_download/pep/blastdb_zm_prot\n",
      "New DB title:  mays\n",
      "Sequence type: Protein\n",
      "Keep MBits: T\n",
      "Maximum file size: 1000000000B\n",
      "Adding sequences from FASTA; added 131496 sequences in 9.53488 seconds.\n"
     ]
    }
   ],
   "source": [
    "!gzcat Zea_mays.AGPv4.pep.all.fa.gz |makeblastdb -in - -out blastdb_zm_prot -input_type=fasta -dbtype prot -title mays\n"
   ]
  },
  {
   "cell_type": "code",
   "execution_count": null,
   "metadata": {},
   "outputs": [],
   "source": []
  }
 ],
 "metadata": {
  "kernelspec": {
   "display_name": "Python 3",
   "language": "python",
   "name": "python3"
  },
  "language_info": {
   "codemirror_mode": {
    "name": "ipython",
    "version": 3
   },
   "file_extension": ".py",
   "mimetype": "text/x-python",
   "name": "python",
   "nbconvert_exporter": "python",
   "pygments_lexer": "ipython3",
   "version": "3.6.8"
  }
 },
 "nbformat": 4,
 "nbformat_minor": 2
}
