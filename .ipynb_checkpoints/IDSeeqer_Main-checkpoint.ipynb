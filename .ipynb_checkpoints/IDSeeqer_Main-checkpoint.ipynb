{
 "cells": [
  {
   "cell_type": "code",
   "execution_count": null,
   "metadata": {},
   "outputs": [],
   "source": [
    "###################################################################################\n",
    "#\n",
    "# The IDSeeqer.py script can be run directly from terminal like below:\n",
    "#\n",
    "# Run directly with parameters\n",
    "# python IDSeeqer.py \"['localhost', 'crop_pal2v2', 'user', 'password', 'test_idseeqer_temp', 2]\"\n",
    "#\n",
    "# Run without parameters to display GUI\n",
    "# python IDSeeqer.py\n",
    "#\n",
    "##################################################################################\n",
    "\n",
    "host = \"localhost\"\n",
    "database_name = \"nitrogen_networks\"\n",
    "database_user = \"Conny\"\n",
    "#should add:\n",
    "import getpass\n",
    "database_password = getpass.getpass()\n",
    "#Then the user will enter the password?\n",
    "table_name = \"species_cyc_id_seeqer\"\n",
    "retrieval_delay = 2\n",
    "\n",
    "#######################################################################\n",
    "## DO NOT MODIFY BELOW THIS LINE UNLESS YOU KNOW WHAT YOU ARE DOING ! #\n",
    "#######################################################################\n",
    "\n",
    "input_data = []\n",
    "input_data.append(host)\n",
    "input_data.append(database_name)\n",
    "input_data.append(database_user)\n",
    "input_data.append(database_password)\n",
    "input_data.append(table_name)\n",
    "input_data.append(retrieval_delay)\n",
    "\n",
    "input_data = '\"' + str(input_data) +'\"'\n",
    "\n",
    "\n",
    "\n",
    "%run \"IDSeeqer.py\" $input_data"
   ]
  },
  {
   "cell_type": "code",
   "execution_count": null,
   "metadata": {},
   "outputs": [],
   "source": []
  },
  {
   "cell_type": "code",
   "execution_count": null,
   "metadata": {},
   "outputs": [],
   "source": []
  },
  {
   "cell_type": "code",
   "execution_count": null,
   "metadata": {},
   "outputs": [],
   "source": []
  }
 ],
 "metadata": {
  "kernelspec": {
   "display_name": "Python 3",
   "language": "python",
   "name": "python3"
  },
  "language_info": {
   "codemirror_mode": {
    "name": "ipython",
    "version": 3
   },
   "file_extension": ".py",
   "mimetype": "text/x-python",
   "name": "python",
   "nbconvert_exporter": "python",
   "pygments_lexer": "ipython3",
   "version": "3.6.8"
  }
 },
 "nbformat": 4,
 "nbformat_minor": 2
}
